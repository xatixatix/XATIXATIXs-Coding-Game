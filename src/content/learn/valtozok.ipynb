{
 "cells": [
  {
   "attachments": {},
   "cell_type": "markdown",
   "id": "06d29b19",
   "metadata": {},
   "source": [
    "# Változók deklarálása\n",
    "\n",
    "- Mi is az a váltózó?\n",
    "A változókat a programozásban úgy tudjuk elképzelni, mint egy dobozt. A dobozba akármit rakhatunk, ebben nincs megkötés. legyen az szöveg, szám vagy logikai érték. Ezen felül műveleteket is végezhetünk velük.\n",
    "\n",
    "- Nézzük hogyan is működik\n",
    "Az alábbi példában deklarálunk vagy másnéven létrehozunk egy változókat és ez után a print() nevű beépített függvény segítségével ki is iratjuk őket.\n",
    "A cellát a programkód szövegdoboza melletti háromszögre kattintva tudod lefuttatni."
   ]
  },
  {
   "cell_type": "code",
   "execution_count": null,
   "id": "59c2d49b",
   "metadata": {},
   "outputs": [],
   "source": [
    "a = \"Hello world\"\n",
    "print(a)\n",
    "b = 5.213\n",
    "print(b)"
   ]
  },
  {
   "attachments": {},
   "cell_type": "markdown",
   "id": "d209af27",
   "metadata": {},
   "source": [
    "A második példában összeadunk két számot és egy harmadik változóban eltároljuk, majd az előbb is használt print() függvénnyel megjelenítjük."
   ]
  },
  {
   "cell_type": "code",
   "execution_count": null,
   "id": "7d9205c8",
   "metadata": {},
   "outputs": [],
   "source": [
    "a = 1   # 1. változó\n",
    "b = 3   # 2. változó\n",
    "c = a + b   # összeadás eltárolása egy külön változóba\n",
    "print(c)    # eredmény megjelenítése"
   ]
  },
  {
   "attachments": {},
   "cell_type": "markdown",
   "id": "3f2c7cd8",
   "metadata": {},
   "source": [
    "# Műveletek\n",
    "\n",
    "Az alábbi mezőben megismerkedhetsz az összes létező művelettel amelyet számokkal tudunk végeni."
   ]
  }
 ],
 "metadata": {
  "kernelspec": {
   "display_name": "Python 3",
   "language": "python",
   "name": "python3"
  },
  "language_info": {
   "codemirror_mode": {
    "name": "ipython",
    "version": 3
   },
   "file_extension": ".py",
   "mimetype": "text/x-python",
   "name": "python",
   "nbconvert_exporter": "python",
   "pygments_lexer": "ipython3",
   "version": "3.11.0 (main, Oct 24 2022, 18:26:48) [MSC v.1933 64 bit (AMD64)]"
  },
  "vscode": {
   "interpreter": {
    "hash": "a5fa0f17ff941359542b8ddc2be3d24cedef93c3dec6f116c163f18d13be5cbf"
   }
  }
 },
 "nbformat": 4,
 "nbformat_minor": 5
}
