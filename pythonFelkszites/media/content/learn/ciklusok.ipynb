{
 "cells": [
  {
   "attachments": {},
   "cell_type": "markdown",
   "metadata": {},
   "source": [
    "# Ciklusok\n",
    "\n",
    "Ciklusokat nagyon hasznos dolgok és nagyon sok esetben használjuk őket. Jó pédául arra, ha van egy listánk, hogy végigmenjünk minden elemén és minden elemmel csináljunk valamit. Vagy ha keresünk valamit egy listában, akkor ciklulssal is megoldhatjuk, bár a pythonban vannak erre beépített fügvényeink is amiket sokkal egyszerűbb használni.\n",
    "\n",
    "Nézzük meg, hogy milyen ciklusok léteznek."
   ]
  },
  {
   "cell_type": "code",
   "execution_count": null,
   "metadata": {},
   "outputs": [],
   "source": [
    "kutyafajtak = ['Golden retriever', 'Border collie', 'Bichon havanese', 'Bernáthegyi'] # lista amely kutyafajtákat tartalmaz\n",
    "# for ciklus amivel végigmegyünk a listán és kiíratjuk a kutyafajtáinkat.\n",
    "# Itt a fajta egy változó, amiben a jelenleg vizsgált kuytafajtát tároljuk, \n",
    "# ezt automatikusan lépteti a rendszer, amíg végig nem értünk a listánkon.\n",
    "for fajta in kutyafajtak: \n",
    "    print(fajta)"
   ]
  },
  {
   "cell_type": "code",
   "execution_count": null,
   "metadata": {},
   "outputs": [],
   "source": [
    "a = 0\n",
    "# A while ciklus annyiban különbözik, hogy minden \"körben\" az nézi meg, hogy a feltétel amit megadtunk neki\n",
    "# az igaz vagy hamis. Ha hamis, akkor folytatja a köröket, és igaz akkor abbahagyja és megy tovább a program.\n",
    "while a < 10:\n",
    "    print(a)\n",
    "    a += 1\n",
    "print('Vége a ciklusnak, a program fut tovább.')\n",
    "# Mivel ez egy úgynevezett elöltesztelő ciklus, ezért a programunk a 10-et már nem fogja kiírni, az \"a\" változónk értéke őpedig 10 lesz.\n",
    "print(a)"
   ]
  },
  {
   "attachments": {},
   "cell_type": "markdown",
   "metadata": {},
   "source": [
    "Más nyelvekben találkozhattál do while ciklusokkal is, de ezek pythonban nem léteznek. Ha nagyon akarjuk akkor tudunk hasonló viselkedést while ciklussal is előállítani."
   ]
  }
 ],
 "metadata": {
  "kernelspec": {
   "display_name": "Python 3",
   "language": "python",
   "name": "python3"
  },
  "language_info": {
   "codemirror_mode": {
    "name": "ipython",
    "version": 3
   },
   "file_extension": ".py",
   "mimetype": "text/x-python",
   "name": "python",
   "nbconvert_exporter": "python",
   "pygments_lexer": "ipython3",
   "version": "3.11.0"
  },
  "orig_nbformat": 4
 },
 "nbformat": 4,
 "nbformat_minor": 2
}
