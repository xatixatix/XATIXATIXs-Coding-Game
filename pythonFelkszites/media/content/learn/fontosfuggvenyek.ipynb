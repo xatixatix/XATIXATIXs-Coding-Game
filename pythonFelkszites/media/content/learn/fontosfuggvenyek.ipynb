{
 "cells": [
  {
   "attachments": {},
   "cell_type": "markdown",
   "metadata": {},
   "source": [
    "# Fontos függvények\n",
    "\n",
    "Ebben a tananyagban a fontos függvényeket fogjuk átnézni, amiket mindenképpen jegyezz meg, mert az érettségin szükség lehet rá.\n",
    "\n",
    "Ez egy hosszabb, gyűjtő jellegű tananyag, ezt ismértlésként vagy magolásként érdemes használni :)"
   ]
  },
  {
   "cell_type": "code",
   "execution_count": null,
   "metadata": {},
   "outputs": [],
   "source": [
    "print() # szöveg kiíratására jó\n",
    "\n",
    "nev = input(\"Add meg a neved\") # adatot lehet bekérni a felhasználótól\n",
    "\n",
    "f\"Ez is szöveget ír ki, de változót is könnyen beledobhatunk {nev}\"\n",
    "\n",
    "# fájl beolvasása egy változóba\n",
    "adatok = []\n",
    "with open('file/jel.txt', 'r') as bemenet:\n",
    "    for sor in bemenet:\n",
    "        adat = sor.strip().split()\n",
    "        adatok.append(list(map(int, adat)))\n",
    "\n",
    "# sorok fájlba kiíratása\n",
    "kimenet = open(\"file/ujJel.txt\", \"w\")\n",
    "for sor in adatok:\n",
    "    print(str(sor), file=kimenet)\n",
    "kimenet.close()\n",
    "\n"
   ]
  }
 ],
 "metadata": {
  "language_info": {
   "name": "python"
  },
  "orig_nbformat": 4
 },
 "nbformat": 4,
 "nbformat_minor": 2
}
