{
 "cells": [
  {
   "attachments": {},
   "cell_type": "markdown",
   "metadata": {},
   "source": [
    "# Elágazások és feltételek\n",
    "\n",
    "Most meg fogjuk nézni, hogy hogyan tudjuk elérni, hogy a programunk döntést tudjon hozni miközben futtatjuk.\n",
    "\n",
    "Erre tudjuk majd használni az if, else és a match függvényeket.\n",
    "# if elif és else\n",
    "\n",
    "Az if elif és else magyarul azt jelenti, hogy \"akkor ha x történik, akkor x történjen, ha nem x történik, akkor y úton megyünk tovább. Az elif segítségével több utat is megadhatunk különböző feltételekkel.\n",
    "\n",
    "Nézzük meg, hogy hogyan működik ez a gyakorlatban."
   ]
  },
  {
   "cell_type": "code",
   "execution_count": null,
   "metadata": {},
   "outputs": [],
   "source": [
    "kor = int(input(\"Hány éves vagy?\"))\n",
    "if kor < 6:\n",
    "    print(\"Túl fiatal vagy ehhez a játékhoz.\")\n",
    "elif kor > 99:\n",
    "    print(\"Úgy tűnik túl idős vagy ehhez a játékhoz.\")\n",
    "else:\n",
    "    print(\"Játszhatsz a játékkal.\")"
   ]
  },
  {
   "attachments": {},
   "cell_type": "markdown",
   "metadata": {},
   "source": [
    "# Match\n",
    "\n",
    "Most nézzük meg, hogy mit is tud a match és mire jó.\n",
    "\n",
    "Ha van mondjuk egy változónk, legyen ez egy szám és azt mondjuk, hogy mást szeretnénk, hogy csináljon a programunk, ha 100 alatti, ha 100 és 500 között, ha 500 és 1000 között, ha 1000 felett van vagy, ha nem olyan számot kapunk ami általunk értelmezhető, akkor legyen egy olyan esetünk is, ami akkor fut le.\n",
    "\n",
    "Nézzük, hogy ez hogyan valósítható meg. Persze ezt meg lehet csinálni if és elif használatával is, de abban az esetben ez a megoldás sokkal átláthatóbb, ha sok feltételünk van és sok if-et kéne raknunk, így érdemes match-et használni."
   ]
  },
  {
   "cell_type": "code",
   "execution_count": null,
   "metadata": {},
   "outputs": [],
   "source": [
    "szam = 150\n",
    "\n",
    "match szam:\n",
    "     case szam if szam < 100:\n",
    "          print(\"Ez a szám kisebb mint 100.\")\n",
    "     case szam if 100 <= szam < 500:\n",
    "          print(\"Ez a szám 100 és 500 között van.\")\n",
    "     case szam if 500 <= szam < 1000:\n",
    "          print(\"Ez a szám 500 és 1000 között van.\")\n",
    "     case _:\n",
    "          print(\"Ez nem egy általam értelmezhető szám...\")"
   ]
  }
 ],
 "metadata": {
  "kernelspec": {
   "display_name": "Python 3",
   "language": "python",
   "name": "python3"
  },
  "language_info": {
   "codemirror_mode": {
    "name": "ipython",
    "version": 3
   },
   "file_extension": ".py",
   "mimetype": "text/x-python",
   "name": "python",
   "nbconvert_exporter": "python",
   "pygments_lexer": "ipython3",
   "version": "3.11.0"
  },
  "orig_nbformat": 4,
  "vscode": {
   "interpreter": {
    "hash": "a5fa0f17ff941359542b8ddc2be3d24cedef93c3dec6f116c163f18d13be5cbf"
   }
  }
 },
 "nbformat": 4,
 "nbformat_minor": 2
}
