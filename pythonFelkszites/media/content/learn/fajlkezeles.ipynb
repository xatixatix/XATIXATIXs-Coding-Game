{
 "cells": [
  {
   "attachments": {},
   "cell_type": "markdown",
   "metadata": {},
   "source": [
    "# Fájlkezelés\n",
    "\n",
    "Ebben a modulban a fájlkezelésről lesz szó. Ez azt jelenti, hogy megnyitunk és beolvasunk egy szöveges fájlt a programunkon keresztül.\n",
    "\n",
    "Először is nézzük meg, hogy hogyan olvasunk be egy fájlt, amit a 2022-es érettségi feladatsorból kaptunk, neked itt már nem kell letölteni, működik anélkül is, csak futtasd le a kódot :)\n",
    "\n",
    "A forrásfájlban soronként 1 szám található ami valahogy így néz ki:\n",
    "\n",
    "    2\n",
    "    2\n",
    "    2\n",
    "    2\n",
    "    4\n",
    "    4"
   ]
  },
  {
   "cell_type": "code",
   "execution_count": null,
   "metadata": {},
   "outputs": [],
   "source": [
    "adatok = [] # ebben a listában fogjuk eltárolni az adatokat\n",
    "with open('file/jel.txt', 'r') as bemenet: #ez a sor beolvassa a fájlunkat, és eltárolja a tartalmát a bemenet nevű változónkba\n",
    "    for sor in bemenet: #for ciklussal feldolgozzuk az összes sort\n",
    "        adat = sor.strip().split() #itt a strip() eltűnteti nekünk az összes szóközt, aztán a split() szétválasztja az adatainkat\n",
    "        adatok.append(list(map(int, adat)))"
   ]
  },
  {
   "attachments": {},
   "cell_type": "markdown",
   "metadata": {},
   "source": [
    "Most nézzük meg, hogy mir is sikerült beolvasnunk az adatok nevű változónkba.\n",
    "\n",
    "Na de azért, mert nagyon sok sor van a fájlban, legyen csak az első 5 sor:"
   ]
  },
  {
   "cell_type": "code",
   "execution_count": null,
   "metadata": {},
   "outputs": [],
   "source": [
    "for i in range(0, 5):\n",
    "    print(adatok[i])"
   ]
  },
  {
   "attachments": {},
   "cell_type": "markdown",
   "metadata": {},
   "source": [
    "Ez tök jó, most változtassunk ezen valamit, és írassuk ki egy másik fájlba.\n",
    "\n",
    "Mondjuk csináljuk azt, hogy minden sor végére beszúrunk egy 5-öst."
   ]
  },
  {
   "cell_type": "code",
   "execution_count": null,
   "metadata": {},
   "outputs": [],
   "source": [
    "for sor in adatok:\n",
    "    sor.append(5)\n",
    "\n",
    "kimenet = open(\"file/ujJel.txt\", \"w\")\n",
    "\n",
    "for sor in adatok:\n",
    "    print(str(sor), file=kimenet)\n",
    "kimenet.close()"
   ]
  },
  {
   "attachments": {},
   "cell_type": "markdown",
   "metadata": {},
   "source": [
    "Végül nézzük meg, hogy hogyan is néz ki ez az új fájl."
   ]
  },
  {
   "cell_type": "code",
   "execution_count": null,
   "metadata": {},
   "outputs": [],
   "source": [
    "with open('file/ujJel.txt', 'r') as bemenet:\n",
    "    for sor in bemenet:\n",
    "        print(sor)"
   ]
  }
 ],
 "metadata": {
  "kernelspec": {
   "display_name": "Python 3",
   "language": "python",
   "name": "python3"
  },
  "language_info": {
   "codemirror_mode": {
    "name": "ipython",
    "version": 3
   },
   "file_extension": ".py",
   "mimetype": "text/x-python",
   "name": "python",
   "nbconvert_exporter": "python",
   "pygments_lexer": "ipython3",
   "version": "3.11.0"
  },
  "orig_nbformat": 4
 },
 "nbformat": 4,
 "nbformat_minor": 2
}
