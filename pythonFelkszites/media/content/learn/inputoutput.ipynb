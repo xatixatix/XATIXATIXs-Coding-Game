{
 "cells": [
  {
   "attachments": {},
   "cell_type": "markdown",
   "metadata": {},
   "source": [
    "# Bemenet - Kimenet\n",
    "\n",
    " Megeshet, hogy a programunkban valamilyen külső adatot szeretnénk használni, például a felhasználótól szeretnénk valamit megtudni.\n",
    " \n",
    " Ezt a következő képpen tudjuk megtenni:"
   ]
  },
  {
   "cell_type": "code",
   "execution_count": null,
   "metadata": {},
   "outputs": [],
   "source": [
    "a = input(\"Hogy hívnak?\")\n",
    "print(\"Üdvözöllek \" + a)"
   ]
  },
  {
   "attachments": {},
   "cell_type": "markdown",
   "metadata": {},
   "source": [
    "# Kimenet formázása\n",
    "\n",
    "A kimenet formázására több lehetőség is van, de mi most az egyik \"új\" fajtát fogjuk megnézni. Ezek az \"f\" stringek, igazából a neve nem is lényeges, nézzük meg, hogy hogyan is működik ez."
   ]
  },
  {
   "cell_type": "code",
   "execution_count": null,
   "metadata": {},
   "outputs": [],
   "source": [
    "nev = 'Gabi'\n",
    "f'Szia {nev}!'"
   ]
  },
  {
   "attachments": {},
   "cell_type": "markdown",
   "metadata": {},
   "source": [
    "Mostmár tudjuk, hogy hogyan írjunk bele egy változót a kimeneti szövegünkbe.\n",
    "\n",
    "Most nézzük meg, hogy hogyan tudunk például ugyan ezzel a módszerrel műveleteket is végezni egy ilyen \"f\" stringes megoldásban."
   ]
  },
  {
   "cell_type": "code",
   "execution_count": null,
   "metadata": {},
   "outputs": [],
   "source": [
    "nev = 'Gabi'\n",
    "a = 3\n",
    "b = 8\n",
    "\n",
    "f'{nev} kérlek add össze ezt a két számot: {a} és {b}. Az eredmény: {a + b}'"
   ]
  }
 ],
 "metadata": {
  "kernelspec": {
   "display_name": "Python 3",
   "language": "python",
   "name": "python3"
  },
  "language_info": {
   "codemirror_mode": {
    "name": "ipython",
    "version": 3
   },
   "file_extension": ".py",
   "mimetype": "text/x-python",
   "name": "python",
   "nbconvert_exporter": "python",
   "pygments_lexer": "ipython3",
   "version": "3.11.0"
  },
  "orig_nbformat": 4,
  "vscode": {
   "interpreter": {
    "hash": "a5fa0f17ff941359542b8ddc2be3d24cedef93c3dec6f116c163f18d13be5cbf"
   }
  }
 },
 "nbformat": 4,
 "nbformat_minor": 2
}
